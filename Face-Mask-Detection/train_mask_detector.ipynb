{
 "cells": [
  {
   "cell_type": "markdown",
   "id": "ee148294",
   "metadata": {},
   "source": [
    "# Face Mask Detection Project\n",
    "This notebook will guide you through training a face mask detection model."
   ]
  },
  {
   "cell_type": "code",
   "execution_count": 1,
   "id": "f857e814-680a-458e-9b6a-fd73bfc3b3fc",
   "metadata": {},
   "outputs": [
    {
     "name": "stdout",
     "output_type": "stream",
     "text": [
      "4.11.0\n"
     ]
    }
   ],
   "source": [
    "import cv2\n",
    "print(cv2.__version__)"
   ]
  },
  {
   "cell_type": "code",
   "execution_count": 2,
   "id": "10c38c3c-1ca0-4dce-882d-49120fcc4a19",
   "metadata": {},
   "outputs": [],
   "source": [
    "import os\n",
    "import cv2\n",
    "import numpy as np\n",
    "from tqdm import tqdm\n",
    "from tensorflow.keras.utils import to_categorical\n",
    "from tensorflow.keras.models import Sequential\n",
    "from tensorflow.keras.layers import Conv2D, MaxPooling2D, Flatten, Dense, Dropout\n",
    "from sklearn.model_selection import train_test_split"
   ]
  },
  {
   "cell_type": "code",
   "execution_count": 3,
   "id": "c6d59d2b-7100-4397-8b32-3d780d0d1658",
   "metadata": {},
   "outputs": [],
   "source": [
    "image_folder = '/users/zarkhanhilal/Desktop/Face-Mask-Detection/dataset'\n",
    "labels_list = ['with_mask', 'without_mask']\n",
    "dataset = []\n",
    "image_size = 100"
   ]
  },
  {
   "cell_type": "code",
   "execution_count": 4,
   "id": "aa60f66e-8d72-4a91-95b4-012821fde48c",
   "metadata": {},
   "outputs": [
    {
     "name": "stderr",
     "output_type": "stream",
     "text": [
      "100%|█████████████████████████████████████| 3725/3725 [00:02<00:00, 1507.20it/s]\n",
      "100%|█████████████████████████████████████| 3828/3828 [00:01<00:00, 3526.66it/s]\n"
     ]
    }
   ],
   "source": [
    "for label in labels_list:\n",
    "    folder_path = os.path.join(image_folder, label)\n",
    "    label_index = labels_list.index(label)\n",
    "\n",
    "    for file in tqdm(os.listdir(folder_path)):\n",
    "        try:\n",
    "            img_gray = cv2.imread(os.path.join(folder_path, file), cv2.IMREAD_GRAYSCALE)\n",
    "            img_resized = cv2.resize(img_gray, (image_size, image_size))\n",
    "            dataset.append([img_resized, label_index])\n",
    "        except Exception as error:\n",
    "            pass"
   ]
  },
  {
   "cell_type": "code",
   "execution_count": 5,
   "id": "3c5fda9a-815a-4b3f-825a-4db424ae8488",
   "metadata": {},
   "outputs": [],
   "source": [
    "features = []\n",
    "labels = []\n",
    "\n",
    "for img, lbl in dataset:\n",
    "    features.append(img)\n",
    "    labels.append(lbl)"
   ]
  },
  {
   "cell_type": "code",
   "execution_count": 6,
   "id": "08986b17-6d23-4cec-bd5f-454c5f510bc3",
   "metadata": {},
   "outputs": [],
   "source": [
    "features = np.array(features).reshape(-1, image_size, image_size, 1) / 255.0\n",
    "labels = to_categorical(labels)\n",
    "\n",
    "x_train, x_test, y_train, y_test = train_test_split(features, labels, test_size=0.2)"
   ]
  },
  {
   "cell_type": "code",
   "execution_count": 7,
   "id": "44eefc42-838d-4a57-a33e-1fc18c67244c",
   "metadata": {},
   "outputs": [],
   "source": [
    "model = Sequential()\n",
    "\n",
    "model.add(Conv2D(32, (3, 3), activation='relu', input_shape=(image_size, image_size, 1)))\n",
    "model.add(MaxPooling2D(pool_size=(2, 2)))\n",
    "\n",
    "model.add(Conv2D(64, (3, 3), activation='relu'))\n",
    "model.add(MaxPooling2D(pool_size=(2, 2)))\n",
    "\n",
    "model.add(Flatten())\n",
    "model.add(Dense(128, activation='relu'))\n",
    "model.add(Dropout(0.5))\n",
    "model.add(Dense(2, activation='softmax'))"
   ]
  },
  {
   "cell_type": "code",
   "execution_count": 8,
   "id": "862fb490-a1f8-4230-8ef1-6627a4dad67e",
   "metadata": {},
   "outputs": [
    {
     "name": "stdout",
     "output_type": "stream",
     "text": [
      "Epoch 1/5\n",
      "189/189 [==============================] - 9s 47ms/step - loss: 0.5871 - accuracy: 0.6955 - val_loss: 0.4592 - val_accuracy: 0.7876\n",
      "Epoch 2/5\n",
      "189/189 [==============================] - 9s 46ms/step - loss: 0.3870 - accuracy: 0.8290 - val_loss: 0.3785 - val_accuracy: 0.8332\n",
      "Epoch 3/5\n",
      "189/189 [==============================] - 9s 46ms/step - loss: 0.2818 - accuracy: 0.8830 - val_loss: 0.3158 - val_accuracy: 0.8564\n",
      "Epoch 4/5\n",
      "189/189 [==============================] - 9s 46ms/step - loss: 0.2135 - accuracy: 0.9134 - val_loss: 0.2884 - val_accuracy: 0.8868\n",
      "Epoch 5/5\n",
      "189/189 [==============================] - 9s 46ms/step - loss: 0.1581 - accuracy: 0.9369 - val_loss: 0.2899 - val_accuracy: 0.8815\n"
     ]
    },
    {
     "data": {
      "text/plain": [
       "<keras.src.callbacks.History at 0x30382d0d0>"
      ]
     },
     "execution_count": 8,
     "metadata": {},
     "output_type": "execute_result"
    }
   ],
   "source": [
    "model.compile(optimizer='adam', loss='categorical_crossentropy', metrics=['accuracy'])\n",
    "\n",
    "model.fit(x_train, y_train, epochs=5, validation_data=(x_test, y_test))"
   ]
  },
  {
   "cell_type": "code",
   "execution_count": 9,
   "id": "6fcb4323-a074-46c1-bbd3-f98950e6557a",
   "metadata": {},
   "outputs": [
    {
     "name": "stderr",
     "output_type": "stream",
     "text": [
      "/Users/zarkhanhilal/Desktop/Face-Mask-Detection/venv/lib/python3.9/site-packages/keras/src/engine/training.py:3103: UserWarning: You are saving your model as an HDF5 file via `model.save()`. This file format is considered legacy. We recommend using instead the native Keras format, e.g. `model.save('my_model.keras')`.\n",
      "  saving_api.save_model(\n"
     ]
    }
   ],
   "source": [
    "model.save(\"mask_detector.h5\")"
   ]
  },
  {
   "cell_type": "code",
   "execution_count": null,
   "id": "b0191c25-0028-4ba8-9b47-b246d6953249",
   "metadata": {},
   "outputs": [],
   "source": []
  }
 ],
 "metadata": {
  "kernelspec": {
   "display_name": "Python (Face Mask Detection)",
   "language": "python",
   "name": "face-mask-env"
  },
  "language_info": {
   "codemirror_mode": {
    "name": "ipython",
    "version": 3
   },
   "file_extension": ".py",
   "mimetype": "text/x-python",
   "name": "python",
   "nbconvert_exporter": "python",
   "pygments_lexer": "ipython3",
   "version": "3.9.13"
  }
 },
 "nbformat": 4,
 "nbformat_minor": 5
}
